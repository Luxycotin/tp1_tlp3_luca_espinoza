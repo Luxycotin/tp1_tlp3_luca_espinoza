{
 "cells": [
  {
   "cell_type": "markdown",
   "metadata": {},
   "source": [
    "# Criterios de evaluación.\n",
    "\n",
    "* Se deben utilizar nombres de variables descriptivos y claros (Utilizar la nomeclatura correspondiente para los nombres de variables).\n",
    "* Comentarios claros y concisos que expliquen el propósito de cada sección del código.\n",
    "* Entrega en tiempo y forma.\n",
    "* Todo el código desarrollado debe ser subido a un repositorio en GitHub (el nombre del repositorio de seguir la siguiente estructura: tp1_tlp3_nombre_apellido).\n",
    "\n",
    "\n",
    "**Aclaración: Para resolver las actividades se debe incertar casillas de codigo entre cada actividad del cuaderno de Jupyter**"
   ]
  },
  {
   "cell_type": "markdown",
   "metadata": {},
   "source": [
    "### 1. **Hola Mundo y Variables**\n",
    "\n",
    "   - **Actividad 1.1**: Deben escribir un programa que imprima \"¡Hola, Mundo!\" en la consola.\n",
    "   - **Actividad 1.2**: Deben crear una variable llamada `nombre` y hacer que el programa imprima un saludo personalizado: `Hola, <nombre>!`"
   ]
  },
  {
   "cell_type": "code",
   "execution_count": 9,
   "metadata": {},
   "outputs": [
    {
     "name": "stdout",
     "output_type": "stream",
     "text": [
      "¡hola Mundo!\n",
      "Hola Luca Espinoza bienvenido a Phyton\n"
     ]
    }
   ],
   "source": [
    "print(\"¡hola Mundo!\") #Print es una función que imprime en pantalla lo que se le pase como argumento, en este caso \"¡Hola Mundo!\"\n",
    "nombre = str(input(\"Como te llamas?\")) #input es una función que permite al usuario ingresar un valor, en este caso el nombre\n",
    "print(\"Hola\", nombre, \"bienvenido a Phyton\") #Imprime en pantalla el mensaje \"Hola\" seguido del nombre ingresado y \"bienvenido a Phyton\""
   ]
  },
  {
   "cell_type": "markdown",
   "metadata": {},
   "source": [
    "### 2. **Operaciones Matemáticas Básicas**\n",
    "\n",
    "   - **Actividad 1.1**: Crear un programa que pida al usuario dos números y realice las cuatro operaciones matemáticas básicas (suma, resta, multiplicación y división), imprimiendo los resultados.\n",
    "   - **Actividad 1.2**: Hacer que el programa calcule el promedio de los dos números."
   ]
  },
  {
   "cell_type": "code",
   "execution_count": null,
   "metadata": {},
   "outputs": [
    {
     "name": "stdout",
     "output_type": "stream",
     "text": [
      "La suma de los dos números es:  15\n",
      "La resta de los dos números es:  5\n",
      "La multiplicación de los dos números es:  50\n",
      "La división de los dos números es:  0\n",
      "El promedio de los 2 numeros es:  1\n"
     ]
    }
   ],
   "source": [
    "n1 = int(input(\"Ingresa un número:\")) #Se pide al usuario ingresar un número entero\n",
    "n2 = int(input(\"Ingresa otro número:\")) #Se pide al usuario ingresar otro número entero\n",
    "suma = n1 + n2 \n",
    "resta = n1 - n2\n",
    "multiplicacion = n1 * n2\n",
    "division = n1 / n2\n",
    "promedio = (n1 + n2) / 2  #Formula para callcular el promedio \n",
    "#se empiezan a mostrar los resultados en pantalla llamando a las variables que se crearon anteriormente\n",
    "print(\"La suma de los dos números es: \", suma) \n",
    "print(\"La resta de los dos números es: \", resta) \n",
    "print(\"La multiplicación de los dos números es: \", multiplicacion)\n",
    "print(\"La división de los dos números es: \", division) \n",
    "print(\"El promedio de los 2 numeros es: \", promedio ) \n"
   ]
  },
  {
   "cell_type": "markdown",
   "metadata": {},
   "source": [
    "### 3. **Condicionales (if-else)**\n",
    "\n",
    "   - **Actividad 1.1**: Escribir un programa que pida al usuario su edad y le diga si es mayor de edad (18 años o más).\n",
    "   - **Actividad 1.2**: Agregar un mensaje diferente para diferentes rangos de edad, como por ejemplo, si es un niño, adolescente o adulto."
   ]
  },
  {
   "cell_type": "code",
   "execution_count": null,
   "metadata": {},
   "outputs": [
    {
     "name": "stdout",
     "output_type": "stream",
     "text": [
      "Eres mayor de edad\n"
     ]
    }
   ],
   "source": [
    "edad = int(input(\"Cuántos años tenés?\")) #Se pide al usuario ingresar su edad\n",
    "if edad >= 18 : #Se crea una condición, si la edad ingresada es mayor o igual a 18\n",
    "    print(\"Eres mayor de edad\")\n",
    "else: #Si la condicion no se cumple, se imprime el siguiente mensaje\n",
    "    print(\"Eres menor de edad\")"
   ]
  },
  {
   "cell_type": "code",
   "execution_count": null,
   "metadata": {},
   "outputs": [
    {
     "name": "stdout",
     "output_type": "stream",
     "text": [
      "Eres un Adulto\n"
     ]
    }
   ],
   "source": [
    "edad = int(input(\"Cuántos años tenés?\")) \n",
    "\n",
    "if edad < 12 : #Se crea una condición, si la edad ingresada es menor a 12\n",
    "    print(\"Eres un niño\")\n",
    "elif edad < 18: #Uso elif para evaluar otra condición\n",
    "    print(\"Eres un adolescente\") \n",
    "elif edad < 60:\n",
    "    print(\"Eres un Adulto\")\n",
    "else: print(\"Eres un Adulto Mayor\") #Si ninguna de las condiciones anteriores se cumple, el else imprime el mensaje\n",
    "\n",
    "#Se podría agregar una condición donde el rango de edad máximo sea de 200 años pero no es necesario..."
   ]
  },
  {
   "cell_type": "markdown",
   "metadata": {},
   "source": [
    "### 4. **Ciclos (while, for)**\n",
    "\n",
    "   - **Actividad 1.1**: Escribir un programa que imprima los números del 1 al 10 usando un bucle `for`.\n",
    "   - **Actividad 1.2**: Usar un bucle `while` para imprimir los números del 1 al 10, e imprimir solo aquellos números que sean divisibles por 2."
   ]
  },
  {
   "cell_type": "code",
   "execution_count": null,
   "metadata": {},
   "outputs": [
    {
     "name": "stdout",
     "output_type": "stream",
     "text": [
      "1\n",
      "2\n",
      "3\n",
      "4\n",
      "5\n",
      "6\n",
      "7\n",
      "8\n",
      "9\n",
      "10\n"
     ]
    }
   ],
   "source": [
    "for i in range(10) : #Se crea un ciclo for que recorre el rango de 0 a 9\n",
    "    print(i + 1) #Se imprime el valor de i + 1en cada iteración para lograr el resultado de 1 a 10\n",
    "    #Esta es una forma rápida de hacer un conteo de 1 a 10 usando el for :)"
   ]
  },
  {
   "cell_type": "code",
   "execution_count": null,
   "metadata": {},
   "outputs": [
    {
     "name": "stdout",
     "output_type": "stream",
     "text": [
      "2\n",
      "4\n",
      "6\n",
      "8\n",
      "10\n"
     ]
    }
   ],
   "source": [
    "num = 1 #Primero inicializo la variable num en 1\n",
    "\n",
    "while num <= 10: #Se crea un ciclo while que se va a ir ekkecutando mientras num sea menor o igual a 10 :)\n",
    "    if num % 2 == 0: #Se crea una condición para averiguar el residuo de la division entre num y 2, en este caso si el residuo es 0 se imprimiría el número par\n",
    "        print(num)\n",
    "    num += 1 #Se incrementa el valor de num en 1 en cada iteración"
   ]
  },
  {
   "cell_type": "markdown",
   "metadata": {},
   "source": [
    "### 5. **Listas y Bucles**\n",
    "\n",
    "   - **Actividad 1.1**: Crear una lista con 5 números y escribir un programa que imprima cada número de la lista usando un bucle `for`.\n",
    "   - **Actividad 1.2**: Usar un bucle para calcular la suma de los números de la lista."
   ]
  },
  {
   "cell_type": "code",
   "execution_count": 93,
   "metadata": {},
   "outputs": [
    {
     "name": "stdout",
     "output_type": "stream",
     "text": [
      "1\n",
      "2\n",
      "3\n",
      "4\n",
      "5\n",
      "15\n"
     ]
    }
   ],
   "source": [
    "numeros = [1,2,3,4,5] #Se crea una lista de números\n",
    "suma = 0\n",
    "for num in numeros: #Se crea un ciclo for que recorre la lista de número\n",
    "    suma = suma + num #Se suma el valor de num a la variable suma\n",
    "    print(num)\n",
    "print(suma)#Se imprime el valor de la variable suma que es la suma de los números de la lista\n"
   ]
  },
  {
   "cell_type": "markdown",
   "metadata": {},
   "source": [
    "### 6. **Funciones**\n",
    "\n",
    "   - **Actividad 1.1**: Escribir una función llamada `saludo` que reciba un nombre como parámetro y devuelva un saludo personalizado.\n",
    "   - **Actividad 1.2**: Crear una función que reciba dos números y devuelva su suma, resta, multiplicación y división."
   ]
  },
  {
   "cell_type": "code",
   "execution_count": 102,
   "metadata": {},
   "outputs": [
    {
     "name": "stdout",
     "output_type": "stream",
     "text": [
      "Hola Luca bienvenido a Phyton\n"
     ]
    }
   ],
   "source": [
    "def saludar(): #se define la función saludar\n",
    "    nombre = str(input(\"Como te llamas?\")) #Le pido al usuario que ingrese su nombre\n",
    "    print(\"Hola\", nombre, \"bienvenido a Phyton\") #Se imprime el mensaje de bienvenida con el nombre ingresado\n",
    "    \n",
    "saludar()\n"
   ]
  },
  {
   "cell_type": "code",
   "execution_count": 103,
   "metadata": {},
   "outputs": [
    {
     "name": "stdout",
     "output_type": "stream",
     "text": [
      "1. Suma: 5\n",
      "2. Resta: 1\n",
      "3. Multiplicación: 6\n",
      "4. División: 1.5\n"
     ]
    }
   ],
   "source": [
    "def calculator():\n",
    "    n1 = int(input(\"Ingrese un número:\")) \n",
    "    n2 = int(input(\"Ingrese otro número:\"))\n",
    "    print (\"1. Suma:\", n1 + n2)\n",
    "    print (\"2. Resta:\", n1 - n2)\n",
    "    print (\"3. Multiplicación:\", n1 * n2)\n",
    "    print (\"4. División:\", n1 / n2)\n",
    "    \n",
    "    \n",
    "calculator() #Se llama a la función calculator para que se ejecute"
   ]
  },
  {
   "cell_type": "markdown",
   "metadata": {},
   "source": [
    "### 7. **Manejo de cadenas de texto**\n",
    "\n",
    "   - **Actividad 1.1**: Escribir un programa que pida al usuario su nombre y lo imprima en mayúsculas y en minúsculas.\n",
    "   - **Actividad 1.2**: Hacer que el programa imprima la longitud del nombre ingresado (no tener en cuenta los espacios en blanco)."
   ]
  },
  {
   "cell_type": "code",
   "execution_count": 107,
   "metadata": {},
   "outputs": [
    {
     "name": "stdout",
     "output_type": "stream",
     "text": [
      "Tu nombre en mayúsculas es: SEBASTIAN BOGARIN\n",
      "Tu nombre en minúsculas es: sebastian bogarin\n",
      "Tu nombre tiene 16 letras\n"
     ]
    }
   ],
   "source": [
    "nombre = str(input(\"Como te llamas querido usuario?\"))\n",
    "print(\"Tu nombre en mayúsculas es:\", nombre.upper()) #Se imprime el nombre que se haya ingresado en mayúsculas\n",
    "print(\"Tu nombre en minúsculas es:\", nombre.lower()) #Se imprime el nombre que haya ingresaso ahora en minúsculas\n",
    "print(\"Tu nombre tiene\", len(nombre.replace(\" \", \"\")), \"letras\") #Se imprime la longitud del nombre del usuario sin contar los espacios"
   ]
  },
  {
   "cell_type": "markdown",
   "metadata": {},
   "source": [
    "### 8. **Diccionarios**\n",
    "\n",
    "   - **Actividad1.1**: Crear un diccionario que contenga los nombres de tres personas como claves y sus edades como valores. El programa debe imprimir la edad de cada persona.\n",
    "   - **Actividad1.2**: Escribir un programa que pregunte al usuario un nombre, luego su edad y los agregue al diccionario."
   ]
  },
  {
   "cell_type": "code",
   "execution_count": 52,
   "metadata": {},
   "outputs": [
    {
     "name": "stdout",
     "output_type": "stream",
     "text": [
      "Que quieres hacer?\n",
      "1. Mostrar lista de personas\n",
      "2. Agregar usuario a la lista\n",
      "3. Salir\n",
      "Que quieres hacer?\n",
      "1. Mostrar lista de personas\n",
      "2. Agregar usuario a la lista\n",
      "3. Salir\n",
      "Luca 19\n",
      "Pilar 21\n",
      "Angel 19\n",
      "Sebastián 19\n",
      "Que quieres hacer?\n",
      "1. Mostrar lista de personas\n",
      "2. Agregar usuario a la lista\n",
      "3. Salir\n"
     ]
    }
   ],
   "source": [
    "diccionario = [\n",
    "    {\"nombre\": \"Luca\", \"edad\": 19},\n",
    "    {\"nombre\": \"Pilar\", \"edad\": 21},\n",
    "    {\"nombre\": \"Angel\", \"edad\": 19}\n",
    "] #Se crea un diccionario con el nombre y edad de los distintos usuarios\n",
    "\n",
    "while True:\n",
    "    \n",
    "    print(\"Que quieres hacer?\")\n",
    "    print(\"1. Mostrar lista de personas\")\n",
    "    print(\"2. Agregar usuario a la lista\")\n",
    "    print(\"3. Salir\")\n",
    "    \n",
    "    \n",
    "    opcion = int(input(\"Ingrese una opción:\"))\n",
    "    match opcion:\n",
    "        case 1:\n",
    "            for persona in diccionario:\n",
    "                print(persona[\"nombre\"], persona[\"edad\"])\n",
    "        case 2:\n",
    "            nombre = str(input(\"Ingrese el nombre del usuario:\"))\n",
    "            edad = int(input(\"Ingrese la edad del usuario:\"))\n",
    "            diccionario.append({\"nombre\": nombre, \"edad\": edad})\n",
    "        case 3: \n",
    "            break\n",
    "        case _: \n",
    "            print(\"Opción no válida\")"
   ]
  },
  {
   "cell_type": "markdown",
   "metadata": {},
   "source": [
    "### 9. **Números aleatorios**\n",
    "\n",
    "   - **Actividad 1.1**: Escribir un programa que genere 5 números aleatorios entre 1 y 100, lo imprima por consola y diga si es mayor o menor a 50.\n",
    "   - **Actividad 1.2**: Sumar los 5 números generados aleatoriamente y en caso de que el resultado sea mayor a 100, mostrar el valor antes de ser mayor a 100 y cuantos números se sumaron para llegar a dicho valor."
   ]
  },
  {
   "cell_type": "code",
   "execution_count": null,
   "metadata": {},
   "outputs": [
    {
     "name": "stdout",
     "output_type": "stream",
     "text": [
      "70 es mayor a 50\n",
      "87 es mayor a 50\n",
      "59 es mayor a 50\n",
      "94 es mayor a 50\n",
      "90 es mayor a 50\n"
     ]
    }
   ],
   "source": [
    "import random\n",
    "numeros = [random.randint(1,100) for _ in range (5)]\n",
    "for num in numeros :\n",
    "    if num > 50: print(f\"{num} es mayor a 50\")\n",
    "    else: print(f\"{num} es menor a 50\")\n",
    "    \n",
    "    \n",
    "    \n",
    "    #from random import randit"
   ]
  },
  {
   "cell_type": "code",
   "execution_count": null,
   "metadata": {},
   "outputs": [
    {
     "name": "stdout",
     "output_type": "stream",
     "text": [
      "Suma antes de superar 100: 53\n",
      "Se sumaron 4 números antes de superar 100\n"
     ]
    }
   ],
   "source": [
    "import random\n",
    "\n",
    "suma = 0  \n",
    "contador = 0  # Contador de los números sumados\n",
    "\n",
    "while suma <= 100:  \n",
    "    num = random.randint(1, 100)  \n",
    "    suma += num \n",
    "    contador += 1  \n",
    "\n",
    "    if suma > 100: \n",
    "        print(\"Suma antes de superar 100:\", suma - num)\n",
    "        print(\"Se sumaron\", contador - 1, \"números antes de superar 100\")\n",
    "        break  # Rompe el ciclo while\n"
   ]
  },
  {
   "cell_type": "markdown",
   "metadata": {},
   "source": [
    "### 10. **Proyecto Final: Calculadora**\n",
    "\n",
    "   - **Actividad 1.1**: Los estudiantes deben crear una calculadora básica que permita realizar operaciones de suma, resta, multiplicación y división con entradas del usuario. El programa debe pedir al usuario que elija la operación y luego introducir 2 números para realizar el cálculo.\n",
    "   - **Actividad 1.2**: Implementar una opción para que el usuario pueda continuar haciendo cálculos o salir del programa."
   ]
  },
  {
   "cell_type": "code",
   "execution_count": null,
   "metadata": {},
   "outputs": [
    {
     "name": "stdout",
     "output_type": "stream",
     "text": [
      "---Menú de acciones---\n",
      "1. Sumar\n",
      "2. Restar\n",
      "3. Multiplicar\n",
      "4. Dividir\n",
      "5. Salir\n",
      "Elija una de las opciones:\n"
     ]
    }
   ],
   "source": [
    "while True:\n",
    "     print(\"---Menú de acciones---\")\n",
    "     print(\"1. Sumar\")\n",
    "     print(\"2. Restar\")\n",
    "     print(\"3. Multiplicar\")\n",
    "     print(\"4. Dividir\")\n",
    "     print(\"5. Salir\")\n",
    "     \n",
    "     opcion = int(input(\"Elija una de las opciones:\"))\n",
    "     \n",
    "     match opcion:\n",
    "         case 1:\n",
    "             n1 = int(input(\"Ingrese un número:\"))\n",
    "             n2 = int(input(\"Ingrese otro número:\"))\n",
    "             print(\"La suma de los dos números es:\", n1 + n2)\n",
    "         case 2:\n",
    "             n1 = int(input(\"Ingrese un número:\"))\n",
    "             n2 = int(input(\"Ingrese otro número:\"))\n",
    "             print(\"La resta de los dos números es:\", n1 - n2)\n",
    "         case 3:\n",
    "             n1 = int(input(\"Ingrese un número:\"))\n",
    "             n2 = int(input(\"Ingrese otro número:\"))\n",
    "             print(\"La multiplicación de los dos números es:\", n1 * n2)\n",
    "         case 4:\n",
    "             n1 = int(input(\"Ingrese un número:\"))\n",
    "             n2 = int(input(\"Ingrese otro número:\"))\n",
    "             print(\"La división de los dos números es:\", n1 / n2)\n",
    "         case 5:\n",
    "             print(\"Adios\")\n",
    "             break\n",
    "         case _:\n",
    "             print(\"Ingrese un número válido\")"
   ]
  },
  {
   "cell_type": "markdown",
   "metadata": {},
   "source": [
    "### EXTRA. **Juegos Simples (Adivina el número)**\n",
    "\n",
    "   - **Actividad 1.1**: Escribir un juego donde el programa elija un número aleatorio entre 1 y 100 y el usuario tenga que adivinarlo. El programa debe dar pistas si el número es mayor o menor.\n",
    "   - **Actividad 1.2**: Limitar el número de intentos y mostrar un mensaje de éxito o fracaso al final."
   ]
  },
  {
   "cell_type": "code",
   "execution_count": null,
   "metadata": {},
   "outputs": [],
   "source": []
  }
 ],
 "metadata": {
  "kernelspec": {
   "display_name": "Python 3",
   "language": "python",
   "name": "python3"
  },
  "language_info": {
   "codemirror_mode": {
    "name": "ipython",
    "version": 3
   },
   "file_extension": ".py",
   "mimetype": "text/x-python",
   "name": "python",
   "nbconvert_exporter": "python",
   "pygments_lexer": "ipython3",
   "version": "3.13.2"
  }
 },
 "nbformat": 4,
 "nbformat_minor": 2
}
